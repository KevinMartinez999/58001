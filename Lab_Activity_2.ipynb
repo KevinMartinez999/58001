{
  "nbformat": 4,
  "nbformat_minor": 0,
  "metadata": {
    "colab": {
      "provenance": [],
      "authorship_tag": "ABX9TyMkfTE6NmSnJj8siDWWxAlk",
      "include_colab_link": true
    },
    "kernelspec": {
      "name": "python3",
      "display_name": "Python 3"
    },
    "language_info": {
      "name": "python"
    }
  },
  "cells": [
    {
      "cell_type": "markdown",
      "metadata": {
        "id": "view-in-github",
        "colab_type": "text"
      },
      "source": [
        "<a href=\"https://colab.research.google.com/github/KevinMartinez999/OOP-Lab-58001/blob/main/Lab_Activity_2.ipynb\" target=\"_parent\"><img src=\"https://colab.research.google.com/assets/colab-badge.svg\" alt=\"Open In Colab\"/></a>"
      ]
    },
    {
      "cell_type": "markdown",
      "source": [
        "Radius, area, perimeter of a circle"
      ],
      "metadata": {
        "id": "o9Fy1gKhIXQD"
      }
    },
    {
      "cell_type": "code",
      "execution_count": 2,
      "metadata": {
        "colab": {
          "base_uri": "https://localhost:8080/"
        },
        "id": "S98ZPzbNHRMm",
        "outputId": "70213658-f072-47da-ec07-167741e16758"
      },
      "outputs": [
        {
          "output_type": "stream",
          "name": "stdout",
          "text": [
            "Enter Radius:  10\n",
            "Area:  62.83\n",
            "Perimeter:  314.16\n"
          ]
        }
      ],
      "source": [
        "class Circle: \n",
        "  def __init__(self, radius, pi):\n",
        "    self.radius = radius \n",
        "    self.pi =  pi\n",
        "\n",
        "  def perimeter(self):\n",
        "    return self.pi * self.radius ** 2\n",
        "  def area(self):\n",
        "    return 2 * self.pi * self.radius\n",
        "  def result(self):\n",
        "    print(\"Area: \", round(self.area(), 2))\n",
        "    print(\"Perimeter: \",  round(self.perimeter(), 2))\n",
        "r = int(input(\"Enter Radius:  \"))\n",
        "\n",
        "value = Circle(r, 3.141592653589793)\n",
        "value.result()"
      ]
    }
  ]
}