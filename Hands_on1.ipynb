{
  "nbformat": 4,
  "nbformat_minor": 0,
  "metadata": {
    "colab": {
      "provenance": [],
      "authorship_tag": "ABX9TyPCEBzP2OG2KhMdJy4/+h21",
      "include_colab_link": true
    },
    "kernelspec": {
      "name": "python3",
      "display_name": "Python 3"
    },
    "language_info": {
      "name": "python"
    }
  },
  "cells": [
    {
      "cell_type": "markdown",
      "metadata": {
        "id": "view-in-github",
        "colab_type": "text"
      },
      "source": [
        "<a href=\"https://colab.research.google.com/github/KevinMartinez999/OOP-Lab-58001/blob/main/Hands_on1.ipynb\" target=\"_parent\"><img src=\"https://colab.research.google.com/assets/colab-badge.svg\" alt=\"Open In Colab\"/></a>"
      ]
    },
    {
      "cell_type": "code",
      "execution_count": null,
      "metadata": {
        "id": "_xdzoCvGWB2m"
      },
      "outputs": [],
      "source": [
        "#Polymorphism\n",
        "\n",
        "class RegularPolygon:\n",
        "  def __int__(self,side):\n",
        "    self.side = side\n",
        "class Square(RegularPolygon):\n",
        "  def area(self):\n",
        "    return self.side * self.side\n",
        "class EquilateralTriangle(RegularPolygon):\n",
        "  def area(self):\n",
        "    return self.side * self.siden * 0.433"
      ]
    },
    {
      "cell_type": "code",
      "source": [
        "#Program 1 Finished\n",
        "class Students:\n",
        "    def __init__(self, name, pre, mid, fin):\n",
        "        self.name = name\n",
        "        self.pre = pre\n",
        "        self.mid = mid\n",
        "        self.fin = fin\n",
        "\n",
        "    def ave(self):\n",
        "        self.average = (self.pre + self.mid + self.fin) / 3\n",
        "\n",
        "    def show(self):\n",
        "        self.ave()\n",
        "        print(\"Name: \", self.name)\n",
        "        print(\"Prelim Grade: \", self.pre)\n",
        "        print(\"Midterm Grade: \", self.mid)\n",
        "        print(\"Final Grade: \", self.fin)\n",
        "        if self.average >= 75:\n",
        "            self.status = \"Passed\"\n",
        "        else:\n",
        "            self.status = \"Failed\"\n",
        "        print(\"Average Grade: {} ({})\".format(round(self.average,0), self.status)) \n",
        "\n",
        "print()\n",
        "print(\"Student's Average Grade \")\n",
        "print()\n",
        "Name = str(input(\"Enter Name: \"))\n",
        "pre = float(input(\"Enter Prelim: \"))\n",
        "mid = float(input(\"Enter Midterm: \"))\n",
        "fin = float(input(\"Enter Finals: \"))\n",
        "print()\n",
        "\n",
        "stud = Students(Name, pre, mid, fin)\n",
        "stud.show()"
      ],
      "metadata": {
        "colab": {
          "base_uri": "https://localhost:8080/"
        },
        "id": "rrCvg3iGjgEH",
        "outputId": "d445f9ca-8e94-4366-9d5f-663f94f2df47"
      },
      "execution_count": null,
      "outputs": [
        {
          "output_type": "stream",
          "name": "stdout",
          "text": [
            "\n",
            "Student's Average Grade \n",
            "\n",
            "Enter Name: Student 1\n",
            "Enter Prelim: 100\n",
            "Enter Midterm: 85\n",
            "Enter Finals: 75\n",
            "\n",
            "Name:  Student 1\n",
            "Prelim Grade:  100.0\n",
            "Midterm Grade:  85.0\n",
            "Final Grade:  75.0\n",
            "Average Grade: 87.0 (Passed)\n"
          ]
        }
      ]
    },
    {
      "cell_type": "code",
      "source": [
        "\n",
        "#Program 2 Finished\n",
        "class Person:\n",
        "  def __init__(self,student):\n",
        "    self.student = student\n",
        "    import random\n",
        "    self.__pre = int(input(\"Enter Prelim \"))\n",
        "    self.__mid = int(input(\"Enter Midterm \"))\n",
        "    self.__fin = int(input(\"Enter Finals \"))\n",
        "  def Grade(self):\n",
        "    return (self.__pre+self.__mid+self.__fin)/3\n",
        "  def display(self):\n",
        "    print(f\"{self.student} have {self.__pre} for prelims, {self.__mid} for midterms, and {self.__fin} for finals with an average of {self.Grade()}\")\n",
        "\n",
        "class std1(Person):\n",
        "  def __init__(self):\n",
        "    print(\"Student1\")\n",
        "    super().__init__(\"Student 1\")\n",
        "    \n",
        "class std2(Person):\n",
        "  def __init__(self):\n",
        "    print(\"Student2\")\n",
        "    super().__init__(\"Student 2\")\n",
        "    \n",
        "class std3(Person):\n",
        "  def __init__(self):\n",
        "    print(\"Student3\")\n",
        "    super().__init__(\"Student 3\")\n",
        "    \n",
        "    print(\"Information about student's grade must be hidden from others\")\n",
        "\n",
        "Std1 = std1()\n",
        "Std2 = std2()\n",
        "Std3 = std3()\n",
        "\n",
        "Std1.display()\n",
        "Std2.display()\n",
        "Std3.display()"
      ],
      "metadata": {
        "colab": {
          "base_uri": "https://localhost:8080/"
        },
        "id": "oi2EnG_UoGlI",
        "outputId": "8ce9dd74-6f8a-48ee-c90d-2391ce5748c8"
      },
      "execution_count": 8,
      "outputs": [
        {
          "output_type": "stream",
          "name": "stdout",
          "text": [
            "Student1\n",
            "Enter Prelim 99\n",
            "Enter Midterm 100\n",
            "Enter Finals 79\n",
            "Student2\n",
            "Enter Prelim 85\n",
            "Enter Midterm 80\n",
            "Enter Finals 69\n",
            "Student3\n",
            "Enter Prelim 86\n",
            "Enter Midterm 91\n",
            "Enter Finals 70\n",
            "Information about student's grade must be hidden from others\n",
            "Student 1 have 99 for prelims, 100 for midterms, and 79 for finals with an average of 92.66666666666667\n",
            "Student 2 have 85 for prelims, 80 for midterms, and 69 for finals with an average of 78.0\n",
            "Student 3 have 86 for prelims, 91 for midterms, and 70 for finals with an average of 82.33333333333333\n"
          ]
        }
      ]
    }
  ]
}