{
  "nbformat": 4,
  "nbformat_minor": 0,
  "metadata": {
    "colab": {
      "provenance": [],
      "authorship_tag": "ABX9TyNZHoHqVdWwNkJnvnbjaTq1",
      "include_colab_link": true
    },
    "kernelspec": {
      "name": "python3",
      "display_name": "Python 3"
    },
    "language_info": {
      "name": "python"
    }
  },
  "cells": [
    {
      "cell_type": "markdown",
      "metadata": {
        "id": "view-in-github",
        "colab_type": "text"
      },
      "source": [
        "<a href=\"https://colab.research.google.com/github/KevinMartinez999/OOP-Lab-58001/blob/main/List%2C_Tuple%2C_and_Dictionaries.ipynb\" target=\"_parent\"><img src=\"https://colab.research.google.com/assets/colab-badge.svg\" alt=\"Open In Colab\"/></a>"
      ]
    },
    {
      "cell_type": "markdown",
      "source": [
        "Functions\n"
      ],
      "metadata": {
        "id": "sbiFTottKxLX"
      }
    },
    {
      "cell_type": "code",
      "execution_count": 10,
      "metadata": {
        "colab": {
          "base_uri": "https://localhost:8080/"
        },
        "id": "mwf8mN7zJFm4",
        "outputId": "cb431ece-395a-40b9-8fb3-45ce5fff446f"
      },
      "outputs": [
        {
          "output_type": "execute_result",
          "data": {
            "text/plain": [
              "10"
            ]
          },
          "metadata": {},
          "execution_count": 10
        }
      ],
      "source": [
        "class Shapes:\n",
        "  def __init__(self, length, width):\n",
        "    self.length = length\n",
        "    self.width =  width\n",
        "  def area(self):\n",
        "    return self.length * self.width\n",
        "rectangle = Shapes(10,5)\n",
        "rectangle.length\n",
        "#rectangle\n"
      ]
    },
    {
      "cell_type": "code",
      "source": [
        "class Shapes:\n",
        "  def __init__(self, side):\n",
        "    self.side = side\n",
        "  def Area(self):\n",
        "    return self.side**2\n",
        "square = Shapes(5)\n",
        "square.Area()"
      ],
      "metadata": {
        "colab": {
          "base_uri": "https://localhost:8080/"
        },
        "id": "FxAHX5aKPk2X",
        "outputId": "8a43bbcf-a267-420e-9884-ec77eeac4760"
      },
      "execution_count": 15,
      "outputs": [
        {
          "output_type": "execute_result",
          "data": {
            "text/plain": [
              "25"
            ]
          },
          "metadata": {},
          "execution_count": 15
        }
      ]
    },
    {
      "cell_type": "code",
      "source": [
        "class Person:\n",
        "  def __init__(self,name,age):\n",
        "    self.name = name\n",
        "    self.age = age\n",
        "  def name_age (self):\n",
        "    return self.name + self.age\n",
        "\n",
        "individual = Person(\"Kevin Martinez \", \" 18 years old\")\n",
        "individual.name_age()"
      ],
      "metadata": {
        "colab": {
          "base_uri": "https://localhost:8080/",
          "height": 35
        },
        "id": "7slYCjuiU1jt",
        "outputId": "67c3fa25-eda9-43ca-e5cc-d5e88c80ee7e"
      },
      "execution_count": 20,
      "outputs": [
        {
          "output_type": "execute_result",
          "data": {
            "text/plain": [
              "'Kevin Martinez  18 years old'"
            ],
            "application/vnd.google.colaboratory.intrinsic+json": {
              "type": "string"
            }
          },
          "metadata": {},
          "execution_count": 20
        }
      ]
    },
    {
      "cell_type": "markdown",
      "source": [
        "List"
      ],
      "metadata": {
        "id": "a2F8Pta3U509"
      }
    },
    {
      "cell_type": "code",
      "source": [
        "pi = 3.14159\n",
        "varList = [\"abc\", 1,\"def\",2]\n",
        "print(varList[0])\n",
        "\n",
        "varList.append('ghi')\n",
        "print(varList)\n",
        "varList.remove(2)\n",
        "print(varList)\n",
        "varList.insert(3,3)\n",
        "print(varList)"
      ],
      "metadata": {
        "colab": {
          "base_uri": "https://localhost:8080/"
        },
        "id": "ouHmk7ASU4ss",
        "outputId": "bb383f7e-6afe-4d78-d9f3-6bdbd67791af"
      },
      "execution_count": 24,
      "outputs": [
        {
          "output_type": "stream",
          "name": "stdout",
          "text": [
            "abc\n",
            "['abc', 1, 'def', 2, 'ghi']\n",
            "['abc', 1, 'def', 'ghi']\n",
            "['abc', 1, 'def', 3, 'ghi']\n"
          ]
        }
      ]
    },
    {
      "cell_type": "markdown",
      "source": [
        "Dictionaries\n"
      ],
      "metadata": {
        "id": "HeeqTD1RWERn"
      }
    },
    {
      "cell_type": "code",
      "source": [
        "students = {\n",
        "             1:\"Ana\",\n",
        "             2:\"Billy\",\n",
        "             3:\"Butchokoy\",\n",
        "             4:\"JM\",\n",
        "             5:\"Pudong\",\n",
        "\n",
        "\n",
        "\n",
        "}\n",
        "print(students)"
      ],
      "metadata": {
        "colab": {
          "base_uri": "https://localhost:8080/"
        },
        "id": "89FBWD0AWFlG",
        "outputId": "81334757-0df8-4261-e96c-9451ecd077ec"
      },
      "execution_count": 27,
      "outputs": [
        {
          "output_type": "stream",
          "name": "stdout",
          "text": [
            "{1: 'Ana', 2: 'Billy', 3: 'Butchokoy', 4: 'JM', 5: 'Pudong'}\n"
          ]
        }
      ]
    }
  ]
}