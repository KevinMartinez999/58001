{
  "nbformat": 4,
  "nbformat_minor": 0,
  "metadata": {
    "colab": {
      "provenance": [],
      "authorship_tag": "ABX9TyPAWd2BBVarI+jwt5KSKY3e",
      "include_colab_link": true
    },
    "kernelspec": {
      "name": "python3",
      "display_name": "Python 3"
    },
    "language_info": {
      "name": "python"
    }
  },
  "cells": [
    {
      "cell_type": "markdown",
      "metadata": {
        "id": "view-in-github",
        "colab_type": "text"
      },
      "source": [
        "<a href=\"https://colab.research.google.com/github/KevinMartinez999/OOP-Lab-58001/blob/main/OOP_Concepts_Part_2.ipynb\" target=\"_parent\"><img src=\"https://colab.research.google.com/assets/colab-badge.svg\" alt=\"Open In Colab\"/></a>"
      ]
    },
    {
      "cell_type": "code",
      "execution_count": 20,
      "metadata": {
        "colab": {
          "base_uri": "https://localhost:8080/"
        },
        "id": "GV-N4bpfWhAs",
        "outputId": "2ed9fcd9-5b52-44ca-d50e-8666a9cb254e"
      },
      "outputs": [
        {
          "output_type": "stream",
          "name": "stdout",
          "text": [
            "Griffon Vulture flies above the clouds\n",
            "Common Crane flies above the clouds\n",
            "Emu is the national bird of the Philippines\n"
          ]
        }
      ],
      "source": [
        "#Class with multiple objects\n",
        "\n",
        "class Birds():\n",
        "  def __init__(self, bird_name):\n",
        "    self.bird_name = bird_name\n",
        "  def flying_birds(self):\n",
        "    print(f\"{self.bird_name} flies above the clouds\")\n",
        "\n",
        "  def non_flying_birds(self):\n",
        "    print(f\"{self.bird_name} is the national bird of the Philippines\")\n",
        "\n",
        "vulture = Birds(\"Griffon Vulture\")\n",
        "crane = Birds(\"Common Crane\")\n",
        "emu  = Birds(\"Emu\")\n",
        "\n",
        "vulture.flying_birds()\n",
        "crane.flying_birds()\n",
        "emu.non_flying_birds()\n",
        "\n"
      ]
    },
    {
      "cell_type": "code",
      "source": [
        "#Encapsulation\n",
        "\n",
        "class foo:\n",
        " def __init__(self, a, b):\n",
        "    self.a = a\n",
        "    self.b = b\n",
        " def add(self):\n",
        "    return self.a + self.b\n",
        "foo_object = foo(3,4)\n",
        "foo_object.add()\n",
        "foo_object.a = 5 \n",
        "foo_object.add()\n",
        "\n"
      ],
      "metadata": {
        "colab": {
          "base_uri": "https://localhost:8080/"
        },
        "id": "r051nkauZ5lT",
        "outputId": "b88a6510-52a8-4ec7-8de6-23bd2686dd18"
      },
      "execution_count": 21,
      "outputs": [
        {
          "output_type": "execute_result",
          "data": {
            "text/plain": [
              "9"
            ]
          },
          "metadata": {},
          "execution_count": 21
        }
      ]
    },
    {
      "cell_type": "code",
      "source": [
        "class Counter:\n",
        "  def __init__(self):\n",
        "    self.current = 0\n",
        "  def increment(self):\n",
        "    self.current += 1\n",
        "  def value(self):\n",
        "    return self.current\n",
        "  def reset(self):\n",
        "    self.current = 0\n",
        "counter = Counter()\n",
        "counter.increment()\n",
        "counter.value()\n",
        "counter.reset()\n",
        "counter.value()\n",
        "  "
      ],
      "metadata": {
        "colab": {
          "base_uri": "https://localhost:8080/"
        },
        "id": "Sj4UKUOQbz30",
        "outputId": "8c17e992-4d03-437c-cbf1-c176665fc997"
      },
      "execution_count": 34,
      "outputs": [
        {
          "output_type": "execute_result",
          "data": {
            "text/plain": [
              "0"
            ]
          },
          "metadata": {},
          "execution_count": 34
        }
      ]
    },
    {
      "cell_type": "code",
      "source": [
        "#Inheritance\n",
        "\n",
        "class Person:\n",
        "  def __init__(self, name, birthdate):\n",
        "    self.name = name\n",
        "    self.birthdate =  birthdate\n",
        "  def display(self):\n",
        "    print(f\"My Name is\", self.name)\n",
        "    print(f\"My Birthdate is\", self.birthdate)\n",
        "class Student(Person):\n",
        "  pass\n",
        "class Teacher(Person):\n",
        "  pass\n",
        "\n",
        "student = Student(\"Wednesday\", \"September 22, 2003\")\n",
        "student.display()\n",
        "teacher = Teacher(\"Rosmar\", \"June 12 1986\")\n",
        "teacher.display()"
      ],
      "metadata": {
        "colab": {
          "base_uri": "https://localhost:8080/"
        },
        "id": "txs6KOuCe0fs",
        "outputId": "657461da-2b7a-4984-93e2-a222f5abfecd"
      },
      "execution_count": 42,
      "outputs": [
        {
          "output_type": "stream",
          "name": "stdout",
          "text": [
            "My Name is Wednesday\n",
            "My Birthdate is September 22, 2003\n",
            "My Name is Rosmar\n",
            "My Birthdate is June 12 1986\n"
          ]
        }
      ]
    },
    {
      "cell_type": "code",
      "source": [
        "#Create a class name shapes\n",
        "#attribute sides\n",
        "\n",
        "class Shapes():\n",
        "  def __init__(self, shape, sides):\n",
        "    self.__shape = shape\n",
        "    self.__sides = sides\n",
        "\n",
        "  def display(self):\n",
        "    print(f\"The shape is \", self.__shape)\n",
        "    print(f\"it has\", self.__sides, \"sides\")\n",
        "class Pentagon(Shapes):\n",
        "  pass\n",
        "class Triangle(Shapes):\n",
        "  pass\n",
        "class Decagon(Shapes):\n",
        "  pass\n",
        "class Rectangle(Shapes):\n",
        "  pass\n",
        "class Hexagon(Shapes):\n",
        "  pass\n",
        "triangle = Triangle(\"Triangle\", \"3\")\n",
        "triangle.display()\n",
        "hexagon = Hexagon(\"Hexagon\", \"6\")\n",
        "hexagon.display()\n",
        "rectangle = Rectangle(\"Rectangle\", \"4\")\n",
        "rectangle.display()\n",
        "decagon = Decagon(\"Decagon\", \"10\")\n",
        "decagon.display()\n",
        "pentagon = Pentagon(\"Pentagon\", \"5\")\n",
        "pentagon.display()"
      ],
      "metadata": {
        "colab": {
          "base_uri": "https://localhost:8080/"
        },
        "id": "PCNncaHXm2SS",
        "outputId": "d96dd944-1d3e-4fc6-ba7b-620202e1ff94"
      },
      "execution_count": 57,
      "outputs": [
        {
          "output_type": "stream",
          "name": "stdout",
          "text": [
            "The shape is  Triangle\n",
            "it has 3 sides\n",
            "The shape is  Hexagon\n",
            "it has 6 sides\n",
            "The shape is  Rectangle\n",
            "it has 4 sides\n",
            "The shape is  Decagon\n",
            "it has 10 sides\n",
            "The shape is  Pentagon\n",
            "it has 5 sides\n"
          ]
        }
      ]
    }
  ]
}