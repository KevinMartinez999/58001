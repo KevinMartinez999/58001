{
  "nbformat": 4,
  "nbformat_minor": 0,
  "metadata": {
    "colab": {
      "provenance": [],
      "authorship_tag": "ABX9TyM5+zmfY62yHWZOSJHj98QX",
      "include_colab_link": true
    },
    "kernelspec": {
      "name": "python3",
      "display_name": "Python 3"
    },
    "language_info": {
      "name": "python"
    }
  },
  "cells": [
    {
      "cell_type": "markdown",
      "metadata": {
        "id": "view-in-github",
        "colab_type": "text"
      },
      "source": [
        "<a href=\"https://colab.research.google.com/github/KevinMartinez999/OOP-Lab-58001/blob/main/Lab_Activity_1.ipynb\" target=\"_parent\"><img src=\"https://colab.research.google.com/assets/colab-badge.svg\" alt=\"Open In Colab\"/></a>"
      ]
    },
    {
      "cell_type": "code",
      "execution_count": 9,
      "metadata": {
        "colab": {
          "base_uri": "https://localhost:8080/"
        },
        "id": "3Ua-yRsyK4bq",
        "outputId": "0ec73c53-9c27-4757-d7bd-52e99f33f841"
      },
      "outputs": [
        {
          "output_type": "stream",
          "name": "stdout",
          "text": [
            "sum = 210\n",
            "Average = 10.5\n"
          ]
        }
      ],
      "source": [
        "n = 20 \n",
        "total_number = n\n",
        "sum = 0\n",
        "average = 0\n",
        "\n",
        "while (n>=0):\n",
        " #printn\n",
        " sum+=n\n",
        " n-=1\n",
        " \n",
        "print(\"sum =\", sum)\n",
        "average = sum/total_number\n",
        "print(\"Average =\", average)\n",
        "\n",
        "\n"
      ]
    }
  ]
}