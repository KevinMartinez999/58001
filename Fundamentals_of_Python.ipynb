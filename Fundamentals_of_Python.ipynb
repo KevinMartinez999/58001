{
  "nbformat": 4,
  "nbformat_minor": 0,
  "metadata": {
    "colab": {
      "provenance": [],
      "authorship_tag": "ABX9TyMWEDF3HLxVgLxFv259pL6E",
      "include_colab_link": true
    },
    "kernelspec": {
      "name": "python3",
      "display_name": "Python 3"
    },
    "language_info": {
      "name": "python"
    }
  },
  "cells": [
    {
      "cell_type": "markdown",
      "metadata": {
        "id": "view-in-github",
        "colab_type": "text"
      },
      "source": [
        "<a href=\"https://colab.research.google.com/github/KevinMartinez999/OOP-Lab-58001/blob/main/Fundamentals_of_Python.ipynb\" target=\"_parent\"><img src=\"https://colab.research.google.com/assets/colab-badge.svg\" alt=\"Open In Colab\"/></a>"
      ]
    },
    {
      "cell_type": "markdown",
      "source": [
        "Indentation"
      ],
      "metadata": {
        "id": "3G86pskxRjhk"
      }
    },
    {
      "cell_type": "code",
      "source": [
        "if 5>2:\n",
        "  print(\"Five is greater than two!\")"
      ],
      "metadata": {
        "colab": {
          "base_uri": "https://localhost:8080/"
        },
        "id": "flpZxaOhRqJM",
        "outputId": "e1a32852-a49f-4efb-af25-ebafa29571c8"
      },
      "execution_count": 4,
      "outputs": [
        {
          "output_type": "stream",
          "name": "stdout",
          "text": [
            "Five is greater than two!\n"
          ]
        }
      ]
    },
    {
      "cell_type": "markdown",
      "source": [
        "Python Comment\n"
      ],
      "metadata": {
        "id": "Ofu3Eu9ISYAc"
      }
    },
    {
      "cell_type": "code",
      "source": [
        "#this is a comment\n",
        "print(\"Hello World\")"
      ],
      "metadata": {
        "colab": {
          "base_uri": "https://localhost:8080/"
        },
        "id": "68DWFgiLSPy1",
        "outputId": "20eaa81d-9e89-41fd-c4d7-a704d5dbcf3a"
      },
      "execution_count": 6,
      "outputs": [
        {
          "output_type": "stream",
          "name": "stdout",
          "text": [
            "Hello World\n"
          ]
        }
      ]
    },
    {
      "cell_type": "markdown",
      "source": [
        "Python variable Names"
      ],
      "metadata": {
        "id": "RDpJxTm_S8bU"
      }
    },
    {
      "cell_type": "code",
      "source": [
        "person_a =  \"Kev\"\n",
        "print(person_a)"
      ],
      "metadata": {
        "colab": {
          "base_uri": "https://localhost:8080/"
        },
        "id": "BR30X-WnS-oL",
        "outputId": "6c04e0b1-924f-4c25-ef24-9e24f32aafd3"
      },
      "execution_count": 8,
      "outputs": [
        {
          "output_type": "stream",
          "name": "stdout",
          "text": [
            "Kev\n"
          ]
        }
      ]
    },
    {
      "cell_type": "code",
      "source": [
        "#Single variable with multiple values\n",
        "\n",
        "arrays=[1,2,3]\n",
        "\n",
        "print(arrays)\n",
        "\n",
        "\n"
      ],
      "metadata": {
        "colab": {
          "base_uri": "https://localhost:8080/"
        },
        "id": "vwBe1tauTtrE",
        "outputId": "69e3b790-2364-4096-d0ac-96c499dc8c9a"
      },
      "execution_count": 10,
      "outputs": [
        {
          "output_type": "stream",
          "name": "stdout",
          "text": [
            "[1, 2, 3]\n"
          ]
        }
      ]
    },
    {
      "cell_type": "code",
      "source": [
        "a= b= c= \"Maria\"\n",
        "\n",
        "print(a)\n",
        "print(b)\n",
        "print(c)"
      ],
      "metadata": {
        "colab": {
          "base_uri": "https://localhost:8080/"
        },
        "id": "oTNLgis8UTUJ",
        "outputId": "7b2c37d9-d3f6-4d66-fbf9-c8dc98578db8"
      },
      "execution_count": 12,
      "outputs": [
        {
          "output_type": "stream",
          "name": "stdout",
          "text": [
            "Maria\n",
            "Maria\n",
            "Maria\n"
          ]
        }
      ]
    },
    {
      "cell_type": "markdown",
      "source": [
        "Casting"
      ],
      "metadata": {
        "id": "WUHyY5wfU2HZ"
      }
    },
    {
      "cell_type": "code",
      "source": [
        "n =int(4)\n",
        "print(n)"
      ],
      "metadata": {
        "colab": {
          "base_uri": "https://localhost:8080/"
        },
        "id": "2Q9-FPbvU3Rx",
        "outputId": "4130afa1-3196-4071-ef94-21ca70217aa0"
      },
      "execution_count": 13,
      "outputs": [
        {
          "output_type": "stream",
          "name": "stdout",
          "text": [
            "4\n"
          ]
        }
      ]
    },
    {
      "cell_type": "markdown",
      "source": [
        "Type Function"
      ],
      "metadata": {
        "id": "SJ2bQ1zlVb_S"
      }
    },
    {
      "cell_type": "code",
      "source": [
        "c = \"Sally\"\n",
        "print (type(c))"
      ],
      "metadata": {
        "colab": {
          "base_uri": "https://localhost:8080/"
        },
        "id": "jr9iHkW5Vd7B",
        "outputId": "760f0ae5-5781-4952-d37e-84e856b8dff8"
      },
      "execution_count": 15,
      "outputs": [
        {
          "output_type": "stream",
          "name": "stdout",
          "text": [
            "<class 'str'>\n"
          ]
        }
      ]
    }
  ]
}