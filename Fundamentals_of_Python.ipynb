{
  "nbformat": 4,
  "nbformat_minor": 0,
  "metadata": {
    "colab": {
      "provenance": [],
      "authorship_tag": "ABX9TyNOjIc2q3yy8G4z3wMgs7Pr",
      "include_colab_link": true
    },
    "kernelspec": {
      "name": "python3",
      "display_name": "Python 3"
    },
    "language_info": {
      "name": "python"
    }
  },
  "cells": [
    {
      "cell_type": "markdown",
      "metadata": {
        "id": "view-in-github",
        "colab_type": "text"
      },
      "source": [
        "<a href=\"https://colab.research.google.com/github/KevinMartinez999/OOP-Lab-58001/blob/main/Fundamentals_of_Python.ipynb\" target=\"_parent\"><img src=\"https://colab.research.google.com/assets/colab-badge.svg\" alt=\"Open In Colab\"/></a>"
      ]
    },
    {
      "cell_type": "markdown",
      "source": [
        "Indentation"
      ],
      "metadata": {
        "id": "3G86pskxRjhk"
      }
    },
    {
      "cell_type": "code",
      "source": [
        "if 5>2:\n",
        "  print(\"Five is greater than two!\")"
      ],
      "metadata": {
        "colab": {
          "base_uri": "https://localhost:8080/"
        },
        "id": "flpZxaOhRqJM",
        "outputId": "e1a32852-a49f-4efb-af25-ebafa29571c8"
      },
      "execution_count": null,
      "outputs": [
        {
          "output_type": "stream",
          "name": "stdout",
          "text": [
            "Five is greater than two!\n"
          ]
        }
      ]
    },
    {
      "cell_type": "markdown",
      "source": [
        "Python Comment\n"
      ],
      "metadata": {
        "id": "Ofu3Eu9ISYAc"
      }
    },
    {
      "cell_type": "code",
      "source": [
        "#this is a comment\n",
        "print(\"Hello World\")"
      ],
      "metadata": {
        "colab": {
          "base_uri": "https://localhost:8080/"
        },
        "id": "68DWFgiLSPy1",
        "outputId": "20eaa81d-9e89-41fd-c4d7-a704d5dbcf3a"
      },
      "execution_count": null,
      "outputs": [
        {
          "output_type": "stream",
          "name": "stdout",
          "text": [
            "Hello World\n"
          ]
        }
      ]
    },
    {
      "cell_type": "markdown",
      "source": [
        "Python variable Names"
      ],
      "metadata": {
        "id": "RDpJxTm_S8bU"
      }
    },
    {
      "cell_type": "code",
      "source": [
        "person_a =  \"Kev\"\n",
        "print(person_a)"
      ],
      "metadata": {
        "colab": {
          "base_uri": "https://localhost:8080/"
        },
        "id": "BR30X-WnS-oL",
        "outputId": "6c04e0b1-924f-4c25-ef24-9e24f32aafd3"
      },
      "execution_count": null,
      "outputs": [
        {
          "output_type": "stream",
          "name": "stdout",
          "text": [
            "Kev\n"
          ]
        }
      ]
    },
    {
      "cell_type": "code",
      "source": [
        "#Single variable with multiple values\n",
        "\n",
        "arrays=[1,2,3]\n",
        "\n",
        "print(arrays)\n",
        "\n",
        "\n"
      ],
      "metadata": {
        "colab": {
          "base_uri": "https://localhost:8080/"
        },
        "id": "vwBe1tauTtrE",
        "outputId": "69e3b790-2364-4096-d0ac-96c499dc8c9a"
      },
      "execution_count": null,
      "outputs": [
        {
          "output_type": "stream",
          "name": "stdout",
          "text": [
            "[1, 2, 3]\n"
          ]
        }
      ]
    },
    {
      "cell_type": "code",
      "source": [
        "a= b= c= \"Maria\"\n",
        "\n",
        "print(a)\n",
        "print(b)\n",
        "print(c)"
      ],
      "metadata": {
        "colab": {
          "base_uri": "https://localhost:8080/"
        },
        "id": "oTNLgis8UTUJ",
        "outputId": "7b2c37d9-d3f6-4d66-fbf9-c8dc98578db8"
      },
      "execution_count": null,
      "outputs": [
        {
          "output_type": "stream",
          "name": "stdout",
          "text": [
            "Maria\n",
            "Maria\n",
            "Maria\n"
          ]
        }
      ]
    },
    {
      "cell_type": "markdown",
      "source": [
        "Casting"
      ],
      "metadata": {
        "id": "WUHyY5wfU2HZ"
      }
    },
    {
      "cell_type": "code",
      "source": [
        "n =int(4)\n",
        "print(n)"
      ],
      "metadata": {
        "colab": {
          "base_uri": "https://localhost:8080/"
        },
        "id": "2Q9-FPbvU3Rx",
        "outputId": "4130afa1-3196-4071-ef94-21ca70217aa0"
      },
      "execution_count": null,
      "outputs": [
        {
          "output_type": "stream",
          "name": "stdout",
          "text": [
            "4\n"
          ]
        }
      ]
    },
    {
      "cell_type": "markdown",
      "source": [
        "Type Function"
      ],
      "metadata": {
        "id": "SJ2bQ1zlVb_S"
      }
    },
    {
      "cell_type": "code",
      "source": [
        "c = \"Sally\"\n",
        "print (type(c))"
      ],
      "metadata": {
        "colab": {
          "base_uri": "https://localhost:8080/"
        },
        "id": "jr9iHkW5Vd7B",
        "outputId": "760f0ae5-5781-4952-d37e-84e856b8dff8"
      },
      "execution_count": null,
      "outputs": [
        {
          "output_type": "stream",
          "name": "stdout",
          "text": [
            "<class 'str'>\n"
          ]
        }
      ]
    },
    {
      "cell_type": "markdown",
      "source": [
        "Double Quote and Single Quote"
      ],
      "metadata": {
        "id": "KC3DKVp4Z5Oy"
      }
    },
    {
      "cell_type": "code",
      "source": [
        "A = \"Sally\"\n",
        "A = 'Sally'\n",
        "print (A)"
      ],
      "metadata": {
        "id": "_h-R9QYyZ7_4",
        "outputId": "1a66aece-b739-4823-9dbe-7660a6405def",
        "colab": {
          "base_uri": "https://localhost:8080/"
        }
      },
      "execution_count": 1,
      "outputs": [
        {
          "output_type": "stream",
          "name": "stdout",
          "text": [
            "Sally\n"
          ]
        }
      ]
    },
    {
      "cell_type": "code",
      "source": [
        "a = 4 \n",
        "A = \"Sally\"\n",
        "print(a)"
      ],
      "metadata": {
        "id": "z03gLSjxaJ0y",
        "outputId": "7e407746-f445-4f81-83e7-aa144ffc2b73",
        "colab": {
          "base_uri": "https://localhost:8080/"
        }
      },
      "execution_count": 2,
      "outputs": [
        {
          "output_type": "stream",
          "name": "stdout",
          "text": [
            "4\n"
          ]
        }
      ]
    },
    {
      "cell_type": "code",
      "source": [
        "x,y,z = \"one\", \"two\", \"three\"\n",
        "print(x)\n",
        "print(y)\n",
        "print(z)"
      ],
      "metadata": {
        "id": "eV5XEJnHaZPq",
        "outputId": "4318d177-68f0-40aa-bbff-9c08dcaadf1b",
        "colab": {
          "base_uri": "https://localhost:8080/"
        }
      },
      "execution_count": 4,
      "outputs": [
        {
          "output_type": "stream",
          "name": "stdout",
          "text": [
            "one\n",
            "two\n",
            "three\n"
          ]
        }
      ]
    },
    {
      "cell_type": "code",
      "source": [
        "x = y = z = \"four\"\n",
        "print(x)\n",
        "print(y)\n",
        "print(z)"
      ],
      "metadata": {
        "id": "sBLOEtMeatQJ",
        "outputId": "0de88e28-9e21-48a1-808d-45ea6c87ef55",
        "colab": {
          "base_uri": "https://localhost:8080/"
        }
      },
      "execution_count": 5,
      "outputs": [
        {
          "output_type": "stream",
          "name": "stdout",
          "text": [
            "four\n",
            "four\n",
            "four\n"
          ]
        }
      ]
    },
    {
      "cell_type": "code",
      "source": [
        "x = \"Enjoying\"\n",
        "print(\"Python programming is \"+x)"
      ],
      "metadata": {
        "id": "4MGHc4SGbBTi",
        "outputId": "5f01740d-ac2a-470d-a87b-5df16b4dbca1",
        "colab": {
          "base_uri": "https://localhost:8080/"
        }
      },
      "execution_count": 6,
      "outputs": [
        {
          "output_type": "stream",
          "name": "stdout",
          "text": [
            "Python programming is Enjoying\n"
          ]
        }
      ]
    },
    {
      "cell_type": "code",
      "source": [
        "x =\"Python is \"\n",
        "y =\"enjoying\"\n",
        "z = x + y \n",
        "print(z)"
      ],
      "metadata": {
        "id": "U6OcNkLGbeYx",
        "outputId": "c92e3d52-33ce-4e17-8178-998265ace5a6",
        "colab": {
          "base_uri": "https://localhost:8080/"
        }
      },
      "execution_count": 8,
      "outputs": [
        {
          "output_type": "stream",
          "name": "stdout",
          "text": [
            "Python is enjoying\n"
          ]
        }
      ]
    },
    {
      "cell_type": "code",
      "source": [
        "x = 5\n",
        "\n",
        "y = 3\n",
        "\n",
        "print (x + y)\n",
        "\n",
        "x=5\n",
        "\n",
        "y=3\n",
        "\n",
        "sum=x+y\n",
        "\n",
        "sum"
      ],
      "metadata": {
        "id": "vNjt65A8cGJ6",
        "outputId": "121d57df-8d8f-4c82-cf50-fb9655d84c33",
        "colab": {
          "base_uri": "https://localhost:8080/"
        }
      },
      "execution_count": 9,
      "outputs": [
        {
          "output_type": "stream",
          "name": "stdout",
          "text": [
            "8\n"
          ]
        },
        {
          "output_type": "execute_result",
          "data": {
            "text/plain": [
              "8"
            ]
          },
          "metadata": {},
          "execution_count": 9
        }
      ]
    },
    {
      "cell_type": "code",
      "source": [
        "a,b,c=0,-1,6\n",
        "\n",
        "c%=3\n",
        "\n",
        "c"
      ],
      "metadata": {
        "id": "Zh0_o8j7cVIC",
        "outputId": "ed430bfd-cf6e-4ae7-be1a-94d1b4b21f66",
        "colab": {
          "base_uri": "https://localhost:8080/"
        }
      },
      "execution_count": 10,
      "outputs": [
        {
          "output_type": "execute_result",
          "data": {
            "text/plain": [
              "0"
            ]
          },
          "metadata": {},
          "execution_count": 10
        }
      ]
    },
    {
      "cell_type": "code",
      "source": [
        "a,b,c=0,-1,6\n",
        "\n",
        "a>b and c>b\n",
        "\n",
        "True"
      ],
      "metadata": {
        "id": "f8O-1fG8cbM7",
        "outputId": "2add3e95-0e67-4933-c888-c5650351cf3e",
        "colab": {
          "base_uri": "https://localhost:8080/"
        }
      },
      "execution_count": 11,
      "outputs": [
        {
          "output_type": "execute_result",
          "data": {
            "text/plain": [
              "True"
            ]
          },
          "metadata": {},
          "execution_count": 11
        }
      ]
    },
    {
      "cell_type": "code",
      "source": [
        "a,b,c=0,-1,5\n",
        "\n",
        "a is c\n",
        "\n",
        "False"
      ],
      "metadata": {
        "id": "Ie06U_2-cfKa",
        "outputId": "27792ab9-88bb-4413-e2e9-127c7781c641",
        "colab": {
          "base_uri": "https://localhost:8080/"
        }
      },
      "execution_count": 12,
      "outputs": [
        {
          "output_type": "execute_result",
          "data": {
            "text/plain": [
              "False"
            ]
          },
          "metadata": {},
          "execution_count": 12
        }
      ]
    },
    {
      "cell_type": "code",
      "source": [],
      "metadata": {
        "id": "21cDHYOUciWi"
      },
      "execution_count": null,
      "outputs": []
    }
  ]
}