{
  "nbformat": 4,
  "nbformat_minor": 0,
  "metadata": {
    "colab": {
      "provenance": [],
      "authorship_tag": "ABX9TyOi0ItYRbpBCnit7BD8id4H",
      "include_colab_link": true
    },
    "kernelspec": {
      "name": "python3",
      "display_name": "Python 3"
    },
    "language_info": {
      "name": "python"
    }
  },
  "cells": [
    {
      "cell_type": "markdown",
      "metadata": {
        "id": "view-in-github",
        "colab_type": "text"
      },
      "source": [
        "<a href=\"https://colab.research.google.com/github/KevinMartinez999/OOP-Lab-58001/blob/main/Concepts_in_OOP.ipynb\" target=\"_parent\"><img src=\"https://colab.research.google.com/assets/colab-badge.svg\" alt=\"Open In Colab\"/></a>"
      ]
    },
    {
      "cell_type": "code",
      "execution_count": 3,
      "metadata": {
        "id": "CiQ9uaBJPPSN"
      },
      "outputs": [],
      "source": [
        "#Class Constructor\n",
        "class Car:\n",
        "  pass\n",
        "  "
      ]
    },
    {
      "cell_type": "code",
      "source": [
        "#Create a class\n",
        "\n",
        "class MyNumber:\n",
        "  x = 5\n",
        "\n",
        "num1 =  MyNumber()\n",
        "print(num1.x)"
      ],
      "metadata": {
        "colab": {
          "base_uri": "https://localhost:8080/"
        },
        "id": "Zht54O-pPmTi",
        "outputId": "5d3f2801-6f5e-4b65-ee24-000b368c27f7"
      },
      "execution_count": 4,
      "outputs": [
        {
          "output_type": "stream",
          "name": "stdout",
          "text": [
            "5\n"
          ]
        }
      ]
    },
    {
      "cell_type": "markdown",
      "source": [
        "Instantation"
      ],
      "metadata": {
        "id": "Xc0RThLURj0w"
      }
    },
    {
      "cell_type": "code",
      "source": [
        "class Person:\n",
        "  def __init__(self, name, age):\n",
        "    self.name = name\n",
        "    self.age = age\n",
        "  def myFunction(self):\n",
        "    print(\"Hello my name is\", self.name)\n",
        "person = Person( \"Kev\", 19)\n",
        "\n",
        "person.myFunction()"
      ],
      "metadata": {
        "colab": {
          "base_uri": "https://localhost:8080/"
        },
        "id": "5vTgvcizP-LX",
        "outputId": "28a3f1be-d567-4b41-c140-0700257ece43"
      },
      "execution_count": 10,
      "outputs": [
        {
          "output_type": "stream",
          "name": "stdout",
          "text": [
            "Hello my name is Kev\n"
          ]
        }
      ]
    },
    {
      "cell_type": "code",
      "source": [
        "#Modify the Object Properties\n",
        "\n",
        "person.name = \"Raven\"\n",
        "print(person.name)\n",
        "person.myFunction()"
      ],
      "metadata": {
        "colab": {
          "base_uri": "https://localhost:8080/"
        },
        "id": "WddW747FRjSV",
        "outputId": "dec941a4-83d0-400a-fb53-0ea308ed813b"
      },
      "execution_count": 12,
      "outputs": [
        {
          "output_type": "stream",
          "name": "stdout",
          "text": [
            "Raven\n",
            "Hello my name is Raven\n"
          ]
        }
      ]
    },
    {
      "cell_type": "code",
      "source": [
        "#Deletion of Object properties\n",
        "\n",
        "del person.age\n",
        "person.myFunction()\n",
        "print(person.name)\n",
        "\n"
      ],
      "metadata": {
        "colab": {
          "base_uri": "https://localhost:8080/",
          "height": 243
        },
        "id": "ZLkAN0JcR-uy",
        "outputId": "854349bb-974b-4bdd-91be-389cc1902427"
      },
      "execution_count": 17,
      "outputs": [
        {
          "output_type": "error",
          "ename": "AttributeError",
          "evalue": "ignored",
          "traceback": [
            "\u001b[0;31m---------------------------------------------------------------------------\u001b[0m",
            "\u001b[0;31mAttributeError\u001b[0m                            Traceback (most recent call last)",
            "\u001b[0;32m<ipython-input-17-91b79943152e>\u001b[0m in \u001b[0;36m<module>\u001b[0;34m\u001b[0m\n\u001b[1;32m      1\u001b[0m \u001b[0;31m#Deletion of Object properties\u001b[0m\u001b[0;34m\u001b[0m\u001b[0;34m\u001b[0m\u001b[0;34m\u001b[0m\u001b[0m\n\u001b[1;32m      2\u001b[0m \u001b[0;34m\u001b[0m\u001b[0m\n\u001b[0;32m----> 3\u001b[0;31m \u001b[0;32mdel\u001b[0m \u001b[0mperson\u001b[0m\u001b[0;34m.\u001b[0m\u001b[0mage\u001b[0m\u001b[0;34m\u001b[0m\u001b[0;34m\u001b[0m\u001b[0m\n\u001b[0m\u001b[1;32m      4\u001b[0m \u001b[0mperson\u001b[0m\u001b[0;34m.\u001b[0m\u001b[0mmyFunction\u001b[0m\u001b[0;34m(\u001b[0m\u001b[0;34m)\u001b[0m\u001b[0;34m\u001b[0m\u001b[0;34m\u001b[0m\u001b[0m\n\u001b[1;32m      5\u001b[0m \u001b[0mprint\u001b[0m\u001b[0;34m(\u001b[0m\u001b[0mperson\u001b[0m\u001b[0;34m.\u001b[0m\u001b[0mname\u001b[0m\u001b[0;34m)\u001b[0m\u001b[0;34m\u001b[0m\u001b[0;34m\u001b[0m\u001b[0m\n",
            "\u001b[0;31mAttributeError\u001b[0m: age"
          ]
        }
      ]
    },
    {
      "cell_type": "code",
      "source": [
        "# Compute for the area of Square \n",
        "\n",
        "class Shapes:\n",
        "  def __init__(self,side):    #initial function to name the attributes\n",
        "    self.side = side\n",
        "\n",
        "  def area(self):             #method/formula to compute for the area of a square\n",
        "    return self.side*self.side\n",
        "  \n",
        "  def display(self):          #method to display the area\n",
        "    print(\"the area of the square is\",self.area())\n",
        "\n",
        "square = Shapes(4)\n",
        "square.display()\n"
      ],
      "metadata": {
        "colab": {
          "base_uri": "https://localhost:8080/"
        },
        "id": "Kx9zh_mMSttC",
        "outputId": "ba714ec6-8918-4ed7-c01d-454e5560ed49"
      },
      "execution_count": 23,
      "outputs": [
        {
          "output_type": "stream",
          "name": "stdout",
          "text": [
            "the area of the square is 16\n"
          ]
        }
      ]
    },
    {
      "cell_type": "code",
      "source": [
        "#Create a Python program with the following:\n",
        "# Student as class name\n",
        "# Fullname, Student Number, and School as attribute names\n",
        "# Construct a method to display the values of attributes\n",
        "# Use student as object name\n",
        "\n",
        "class Student:\n",
        "  def __init__(self, fullname, student_number, school):\n",
        "    self.fullname = fullname\n",
        "    self.student_number = student_number\n",
        "    self.school = school\n",
        "  \n",
        "  def display_info(self):\n",
        "    print(f\"Fullname: {self.fullname}\\nStudent Number: {self.student_number}\\nSchool: {self.school}\")\n",
        "\n",
        "student = Student(\"Kevin Crichel R Martinez\", \"202213618\", \"Adamson University\")\n",
        "student.display_info()"
      ],
      "metadata": {
        "colab": {
          "base_uri": "https://localhost:8080/"
        },
        "id": "QG2gXNiFYu2J",
        "outputId": "9932f3ab-e12e-4931-c4a4-756764c8b859"
      },
      "execution_count": 29,
      "outputs": [
        {
          "output_type": "stream",
          "name": "stdout",
          "text": [
            "Fullname: Kevin Crichel R Martinez\n",
            "Student Number: 202213618\n",
            "School: Adamson University\n"
          ]
        }
      ]
    }
  ]
}