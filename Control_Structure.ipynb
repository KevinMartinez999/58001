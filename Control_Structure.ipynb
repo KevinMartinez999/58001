{
  "nbformat": 4,
  "nbformat_minor": 0,
  "metadata": {
    "colab": {
      "provenance": [],
      "authorship_tag": "ABX9TyMMItMUCbFJ0MEm5A2WhnxA",
      "include_colab_link": true
    },
    "kernelspec": {
      "name": "python3",
      "display_name": "Python 3"
    },
    "language_info": {
      "name": "python"
    }
  },
  "cells": [
    {
      "cell_type": "markdown",
      "metadata": {
        "id": "view-in-github",
        "colab_type": "text"
      },
      "source": [
        "<a href=\"https://colab.research.google.com/github/KevinMartinez999/OOP-Lab-58001/blob/main/Control_Structure.ipynb\" target=\"_parent\"><img src=\"https://colab.research.google.com/assets/colab-badge.svg\" alt=\"Open In Colab\"/></a>"
      ]
    },
    {
      "cell_type": "markdown",
      "source": [
        "Conditional Statement "
      ],
      "metadata": {
        "id": "Ibz4zWRBD4uw"
      }
    },
    {
      "cell_type": "code",
      "source": [
        "a = 12\n",
        "b = 100\n",
        "\n",
        "if b > a:\n",
        "  print(\"b is greater than a\")\n",
        "  "
      ],
      "metadata": {
        "colab": {
          "base_uri": "https://localhost:8080/"
        },
        "id": "Cinj6awYD-AX",
        "outputId": "152c31fa-e3f2-4ee9-c50f-54b2cfff738a"
      },
      "execution_count": 1,
      "outputs": [
        {
          "output_type": "stream",
          "name": "stdout",
          "text": [
            "b is greater than a\n"
          ]
        }
      ]
    },
    {
      "cell_type": "markdown",
      "source": [
        "Elif Statements\n"
      ],
      "metadata": {
        "id": "z_2ZqMo2E6xD"
      }
    },
    {
      "cell_type": "code",
      "source": [
        "a = 12\n",
        "b = 12\n",
        "\n",
        "if b>a:\n",
        "  print(\"b is greater than a\")\n",
        "\n",
        "elif a==b:\n",
        "  print(\"a and b are equal\")"
      ],
      "metadata": {
        "colab": {
          "base_uri": "https://localhost:8080/"
        },
        "id": "W9BypvI8E84y",
        "outputId": "52dcab81-c583-4b04-9a31-04aa4fc270bf"
      },
      "execution_count": 3,
      "outputs": [
        {
          "output_type": "stream",
          "name": "stdout",
          "text": [
            "a and b are equal\n"
          ]
        }
      ]
    },
    {
      "cell_type": "markdown",
      "source": [
        "Else Statement"
      ],
      "metadata": {
        "id": "zHMAnY8sFZlM"
      }
    },
    {
      "cell_type": "code",
      "source": [
        "a = 200\n",
        "b = 33\n",
        "\n",
        "if b>a:\n",
        "  print(\"b is greater than a\")\n",
        "\n",
        "elif a==b:\n",
        "  print(\"a and b are equal\")\n",
        "\n",
        "else:\n",
        "  print(\"a is greater than b\")"
      ],
      "metadata": {
        "colab": {
          "base_uri": "https://localhost:8080/"
        },
        "id": "qBMHjPUFFdLi",
        "outputId": "16dc9c12-a07d-40fe-cd0f-2a5a546b41b4"
      },
      "execution_count": 7,
      "outputs": [
        {
          "output_type": "stream",
          "name": "stdout",
          "text": [
            "a is greater than b\n"
          ]
        }
      ]
    },
    {
      "cell_type": "markdown",
      "source": [],
      "metadata": {
        "id": "lc0ocxs2HpWI"
      }
    },
    {
      "cell_type": "code",
      "source": [
        "x=int(input())\n",
        "y=int(input())\n",
        "if x>y: print(x,\"is greater than\", y)"
      ],
      "metadata": {
        "colab": {
          "base_uri": "https://localhost:8080/"
        },
        "id": "3PCK-Lz4Hp6P",
        "outputId": "790044e9-b3f7-4c9d-8a5a-8d32fccc86ab"
      },
      "execution_count": 22,
      "outputs": [
        {
          "output_type": "stream",
          "name": "stdout",
          "text": [
            "100\n",
            "2\n",
            "100 is greater than 2\n"
          ]
        }
      ]
    },
    {
      "cell_type": "markdown",
      "source": [
        "Short Hand if statement"
      ],
      "metadata": {
        "id": "fj5SYvMtI72A"
      }
    },
    {
      "cell_type": "code",
      "source": [
        "if a > b: print(\"a is greater than b\")"
      ],
      "metadata": {
        "colab": {
          "base_uri": "https://localhost:8080/"
        },
        "id": "d1EdASmlJILf",
        "outputId": "9e46c689-b40d-4334-9ef5-5d0aaf9984e5"
      },
      "execution_count": 23,
      "outputs": [
        {
          "output_type": "stream",
          "name": "stdout",
          "text": [
            "a is greater than b\n"
          ]
        }
      ]
    },
    {
      "cell_type": "markdown",
      "source": [
        "Shorthand if else statement"
      ],
      "metadata": {
        "id": "tsCuNHHtJRGQ"
      }
    },
    {
      "cell_type": "code",
      "source": [
        "a = 2\n",
        "b = 330\n",
        "\n",
        "print(\"A\") if a>b else print(\"B\")"
      ],
      "metadata": {
        "colab": {
          "base_uri": "https://localhost:8080/"
        },
        "id": "IuiNdNstJVbJ",
        "outputId": "e98899fd-b26f-46e7-a51d-e0d94fe80674"
      },
      "execution_count": 24,
      "outputs": [
        {
          "output_type": "stream",
          "name": "stdout",
          "text": [
            "B\n"
          ]
        }
      ]
    },
    {
      "cell_type": "markdown",
      "source": [
        "Nested if"
      ],
      "metadata": {
        "id": "tmFh4lNUJ3X8"
      }
    },
    {
      "cell_type": "code",
      "source": [
        "x = 41\n",
        "\n",
        "if x > 10:\n",
        "  print(\"Above ten,\")\n",
        "\n",
        "if x > 20:\n",
        "  print(\"and also above 20!\")\n",
        "\n",
        "if x > 30:\n",
        "  print(\"and also above 30!\")\n",
        "\n",
        "if x > 40:\n",
        "  print(\"and also above 40!\")\n",
        " \n",
        "if x < 50:\n",
        "  print(\"but below 50:(\")\n",
        "\n",
        "else:\n",
        "  print(\"but not above 20.\")"
      ],
      "metadata": {
        "colab": {
          "base_uri": "https://localhost:8080/"
        },
        "id": "_ZR-jfO5J5U8",
        "outputId": "07a289df-4aa7-4a52-e759-d56bd5c93774"
      },
      "execution_count": 30,
      "outputs": [
        {
          "output_type": "stream",
          "name": "stdout",
          "text": [
            "Above ten,\n",
            "and also above 20!\n",
            "and also above 30!\n",
            "and also above 40!\n",
            "but below 50:(\n"
          ]
        }
      ]
    },
    {
      "cell_type": "markdown",
      "source": [
        "Example 1 : if Else"
      ],
      "metadata": {
        "id": "3v17tB8rMIhc"
      }
    },
    {
      "cell_type": "code",
      "source": [
        "\n",
        "print(\"Enter your age\")\n",
        "x=int(input())\n",
        "y=18\n",
        "\n",
        "if x>y: \n",
        "  print(\" you are qualified to vote :0\")\n",
        "\n",
        "else: \n",
        "  print(\" you are not qualified to vote!\")\n",
        "  \n",
        "\n",
        "\n"
      ],
      "metadata": {
        "colab": {
          "base_uri": "https://localhost:8080/"
        },
        "id": "f4r1QgkAMJo1",
        "outputId": "0325d0ad-da40-493c-aa61-534404cbc58e"
      },
      "execution_count": 39,
      "outputs": [
        {
          "output_type": "stream",
          "name": "stdout",
          "text": [
            "Enter your age\n",
            "17\n",
            " you are not qualified to vote!\n"
          ]
        }
      ]
    },
    {
      "cell_type": "markdown",
      "source": [
        "Example 2: If, Elif, Else Statement\n"
      ],
      "metadata": {
        "id": "2rJyamJxMlyz"
      }
    },
    {
      "cell_type": "code",
      "source": [
        "print(\"Enter a number\")\n",
        "x=int(input())\n",
        " \n",
        "if x>0:\n",
        "    print(\"the number is Positive\")\n",
        "\n",
        "elif x<0:\n",
        "    print(\"The number is Negative\")\n",
        "\n",
        "else:\n",
        "    print(\"The number is zero\")"
      ],
      "metadata": {
        "colab": {
          "base_uri": "https://localhost:8080/"
        },
        "id": "ipORgCYmMr7T",
        "outputId": "8f67936a-3180-411d-93a1-5969619bf5f1"
      },
      "execution_count": 46,
      "outputs": [
        {
          "output_type": "stream",
          "name": "stdout",
          "text": [
            "Enter a number\n",
            "200\n",
            "the number is Positive\n"
          ]
        }
      ]
    },
    {
      "cell_type": "markdown",
      "source": [
        "Example 3:"
      ],
      "metadata": {
        "id": "Fb4x90OPMsnT"
      }
    },
    {
      "cell_type": "code",
      "source": [
        "print(\"Enter your grade\")\n",
        "grade = float(input())\n",
        "\n",
        "\n",
        "if grade >= 70 and grade <= 100:\n",
        "  print(\"You Passed\")\n",
        "\n",
        "elif grade >= 65 and grade <= 69.99:\n",
        "  print(\"Remedial\")\n",
        "\n",
        "elif grade <= 64.99 and grade >=0:\n",
        "  print(\"Failed\")\n",
        "\n",
        "elif grade > 100:\n",
        "  print(\"Passed\")\n",
        "\n",
        "else:\n",
        "  print(\"Negative grade is not accepted\")"
      ],
      "metadata": {
        "colab": {
          "base_uri": "https://localhost:8080/"
        },
        "id": "AHFFSOpcMuw7",
        "outputId": "4281b3b6-c5a7-42e9-9554-3d4fc7fe58cc"
      },
      "execution_count": 63,
      "outputs": [
        {
          "output_type": "stream",
          "name": "stdout",
          "text": [
            "Enter your grade\n",
            "69\n",
            "Remedial\n"
          ]
        }
      ]
    },
    {
      "cell_type": "code",
      "source": [],
      "metadata": {
        "id": "CnClfwAIRxLw"
      },
      "execution_count": null,
      "outputs": []
    }
  ]
}